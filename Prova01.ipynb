{
 "cells": [
  {
   "cell_type": "markdown",
   "id": "68fa86dd",
   "metadata": {},
   "source": [
    "Você deve receber 3 valores inteiros positivos. E deve retornar a média aritmética dos dois maiores valores."
   ]
  },
  {
   "cell_type": "code",
   "execution_count": 23,
   "id": "5c642205",
   "metadata": {},
   "outputs": [
    {
     "name": "stdout",
     "output_type": "stream",
     "text": [
      "Valor 1: 35\n",
      "Valor 2: 65\n",
      "Valor 3: 90\n",
      "65\n",
      "90\n",
      "O valor da média aritmética dos dois maiores valores corresponde a  77.5\n"
     ]
    }
   ],
   "source": [
    "a = int(input(\"Valor 1: \", ))\n",
    "b = int(input(\"Valor 2: \", ))\n",
    "c = int(input(\"Valor 3: \", ))\n",
    "\n",
    "if a > b or a > c :\n",
    "    maiorvalor1 = a\n",
    "    print(maiorvalor1)\n",
    "\n",
    "elif b > a or b > c :\n",
    "    maiorvalor1 = b\n",
    "    print(maiorvalor1)\n",
    "\n",
    "if c > a or c > b :\n",
    "    maiorvalor2 = c\n",
    "    print(maiorvalor2)\n",
    "    media_aritmetica = (maiorvalor1 + maiorvalor2) / 2\n",
    "    print(\"O valor da média aritmética dos dois maiores valores corresponde a \", media_aritmetica)\n",
    "\n",
    "elif b > a or b > c :\n",
    "    maiorvalor2 = b\n",
    "    print(maiorvalor2)\n",
    "    media_aritmetica = (maiorvalor1 + maiorvalor2) / 2\n",
    "    print(\"O valor da média aritmética dos dois maiores valores corresponde a \", media_aritmetica)"
   ]
  },
  {
   "cell_type": "code",
   "execution_count": null,
   "id": "81ccb389",
   "metadata": {},
   "outputs": [],
   "source": []
  }
 ],
 "metadata": {
  "kernelspec": {
   "display_name": "Python 3 (ipykernel)",
   "language": "python",
   "name": "python3"
  },
  "language_info": {
   "codemirror_mode": {
    "name": "ipython",
    "version": 3
   },
   "file_extension": ".py",
   "mimetype": "text/x-python",
   "name": "python",
   "nbconvert_exporter": "python",
   "pygments_lexer": "ipython3",
   "version": "3.11.5"
  }
 },
 "nbformat": 4,
 "nbformat_minor": 5
}
